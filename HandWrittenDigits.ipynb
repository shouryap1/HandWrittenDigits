{
 "cells": [
  {
   "cell_type": "code",
   "execution_count": 2,
   "id": "f1b0d816",
   "metadata": {},
   "outputs": [],
   "source": [
    "import tensorflow as tf\n",
    "from tensorflow import keras\n",
    "import matplotlib.pyplot as plt\n",
    "import numpy as np"
   ]
  },
  {
   "cell_type": "code",
   "execution_count": 3,
   "id": "fdc8c18e",
   "metadata": {},
   "outputs": [],
   "source": [
    "(X_train, y_train),(X_test, y_test)= keras.datasets.mnist.load_data()"
   ]
  },
  {
   "cell_type": "code",
   "execution_count": 4,
   "id": "cceb11e1",
   "metadata": {},
   "outputs": [
    {
     "data": {
      "text/plain": [
       "60000"
      ]
     },
     "execution_count": 4,
     "metadata": {},
     "output_type": "execute_result"
    }
   ],
   "source": [
    "len(X_train)"
   ]
  },
  {
   "cell_type": "code",
   "execution_count": 28,
   "id": "cbec4ebd",
   "metadata": {},
   "outputs": [
    {
     "data": {
      "text/plain": [
       "10000"
      ]
     },
     "execution_count": 28,
     "metadata": {},
     "output_type": "execute_result"
    }
   ],
   "source": [
    "len(X_test)"
   ]
  },
  {
   "cell_type": "code",
   "execution_count": 5,
   "id": "4dc09a99",
   "metadata": {},
   "outputs": [
    {
     "data": {
      "text/plain": [
       "array([5, 0, 4, ..., 5, 6, 8], dtype=uint8)"
      ]
     },
     "execution_count": 5,
     "metadata": {},
     "output_type": "execute_result"
    }
   ],
   "source": [
    "y_train"
   ]
  },
  {
   "cell_type": "code",
   "execution_count": 6,
   "id": "1d17737e",
   "metadata": {},
   "outputs": [
    {
     "data": {
      "text/plain": [
       "(28, 28)"
      ]
     },
     "execution_count": 6,
     "metadata": {},
     "output_type": "execute_result"
    }
   ],
   "source": [
    "X_train[0].shape\n"
   ]
  },
  {
   "cell_type": "code",
   "execution_count": 7,
   "id": "f746b22d",
   "metadata": {},
   "outputs": [
    {
     "data": {
      "text/plain": [
       "array([[  0,   0,   0,   0,   0,   0,   0,   0,   0,   0,   0,   0,   0,\n",
       "          0,   0,   0,   0,   0,   0,   0,   0,   0,   0,   0,   0,   0,\n",
       "          0,   0],\n",
       "       [  0,   0,   0,   0,   0,   0,   0,   0,   0,   0,   0,   0,   0,\n",
       "          0,   0,   0,   0,   0,   0,   0,   0,   0,   0,   0,   0,   0,\n",
       "          0,   0],\n",
       "       [  0,   0,   0,   0,   0,   0,   0,   0,   0,   0,   0,   0,   0,\n",
       "          0,   0,   0,   0,   0,   0,   0,   0,   0,   0,   0,   0,   0,\n",
       "          0,   0],\n",
       "       [  0,   0,   0,   0,   0,   0,   0,   0,   0,   0,   0,   0,   0,\n",
       "          0,   0,   0,   0,   0,   0,   0,   0,   0,   0,   0,   0,   0,\n",
       "          0,   0],\n",
       "       [  0,   0,   0,   0,   0,   0,   0,   0,   0,   0,   0,   0,   0,\n",
       "          0,   0,   0,   0,   0,   0,   0,   0,   0,   0,   0,   0,   0,\n",
       "          0,   0],\n",
       "       [  0,   0,   0,   0,   0,   0,   0,   0,   0,   0,   0,   0,   3,\n",
       "         18,  18,  18, 126, 136, 175,  26, 166, 255, 247, 127,   0,   0,\n",
       "          0,   0],\n",
       "       [  0,   0,   0,   0,   0,   0,   0,   0,  30,  36,  94, 154, 170,\n",
       "        253, 253, 253, 253, 253, 225, 172, 253, 242, 195,  64,   0,   0,\n",
       "          0,   0],\n",
       "       [  0,   0,   0,   0,   0,   0,   0,  49, 238, 253, 253, 253, 253,\n",
       "        253, 253, 253, 253, 251,  93,  82,  82,  56,  39,   0,   0,   0,\n",
       "          0,   0],\n",
       "       [  0,   0,   0,   0,   0,   0,   0,  18, 219, 253, 253, 253, 253,\n",
       "        253, 198, 182, 247, 241,   0,   0,   0,   0,   0,   0,   0,   0,\n",
       "          0,   0],\n",
       "       [  0,   0,   0,   0,   0,   0,   0,   0,  80, 156, 107, 253, 253,\n",
       "        205,  11,   0,  43, 154,   0,   0,   0,   0,   0,   0,   0,   0,\n",
       "          0,   0],\n",
       "       [  0,   0,   0,   0,   0,   0,   0,   0,   0,  14,   1, 154, 253,\n",
       "         90,   0,   0,   0,   0,   0,   0,   0,   0,   0,   0,   0,   0,\n",
       "          0,   0],\n",
       "       [  0,   0,   0,   0,   0,   0,   0,   0,   0,   0,   0, 139, 253,\n",
       "        190,   2,   0,   0,   0,   0,   0,   0,   0,   0,   0,   0,   0,\n",
       "          0,   0],\n",
       "       [  0,   0,   0,   0,   0,   0,   0,   0,   0,   0,   0,  11, 190,\n",
       "        253,  70,   0,   0,   0,   0,   0,   0,   0,   0,   0,   0,   0,\n",
       "          0,   0],\n",
       "       [  0,   0,   0,   0,   0,   0,   0,   0,   0,   0,   0,   0,  35,\n",
       "        241, 225, 160, 108,   1,   0,   0,   0,   0,   0,   0,   0,   0,\n",
       "          0,   0],\n",
       "       [  0,   0,   0,   0,   0,   0,   0,   0,   0,   0,   0,   0,   0,\n",
       "         81, 240, 253, 253, 119,  25,   0,   0,   0,   0,   0,   0,   0,\n",
       "          0,   0],\n",
       "       [  0,   0,   0,   0,   0,   0,   0,   0,   0,   0,   0,   0,   0,\n",
       "          0,  45, 186, 253, 253, 150,  27,   0,   0,   0,   0,   0,   0,\n",
       "          0,   0],\n",
       "       [  0,   0,   0,   0,   0,   0,   0,   0,   0,   0,   0,   0,   0,\n",
       "          0,   0,  16,  93, 252, 253, 187,   0,   0,   0,   0,   0,   0,\n",
       "          0,   0],\n",
       "       [  0,   0,   0,   0,   0,   0,   0,   0,   0,   0,   0,   0,   0,\n",
       "          0,   0,   0,   0, 249, 253, 249,  64,   0,   0,   0,   0,   0,\n",
       "          0,   0],\n",
       "       [  0,   0,   0,   0,   0,   0,   0,   0,   0,   0,   0,   0,   0,\n",
       "          0,  46, 130, 183, 253, 253, 207,   2,   0,   0,   0,   0,   0,\n",
       "          0,   0],\n",
       "       [  0,   0,   0,   0,   0,   0,   0,   0,   0,   0,   0,   0,  39,\n",
       "        148, 229, 253, 253, 253, 250, 182,   0,   0,   0,   0,   0,   0,\n",
       "          0,   0],\n",
       "       [  0,   0,   0,   0,   0,   0,   0,   0,   0,   0,  24, 114, 221,\n",
       "        253, 253, 253, 253, 201,  78,   0,   0,   0,   0,   0,   0,   0,\n",
       "          0,   0],\n",
       "       [  0,   0,   0,   0,   0,   0,   0,   0,  23,  66, 213, 253, 253,\n",
       "        253, 253, 198,  81,   2,   0,   0,   0,   0,   0,   0,   0,   0,\n",
       "          0,   0],\n",
       "       [  0,   0,   0,   0,   0,   0,  18, 171, 219, 253, 253, 253, 253,\n",
       "        195,  80,   9,   0,   0,   0,   0,   0,   0,   0,   0,   0,   0,\n",
       "          0,   0],\n",
       "       [  0,   0,   0,   0,  55, 172, 226, 253, 253, 253, 253, 244, 133,\n",
       "         11,   0,   0,   0,   0,   0,   0,   0,   0,   0,   0,   0,   0,\n",
       "          0,   0],\n",
       "       [  0,   0,   0,   0, 136, 253, 253, 253, 212, 135, 132,  16,   0,\n",
       "          0,   0,   0,   0,   0,   0,   0,   0,   0,   0,   0,   0,   0,\n",
       "          0,   0],\n",
       "       [  0,   0,   0,   0,   0,   0,   0,   0,   0,   0,   0,   0,   0,\n",
       "          0,   0,   0,   0,   0,   0,   0,   0,   0,   0,   0,   0,   0,\n",
       "          0,   0],\n",
       "       [  0,   0,   0,   0,   0,   0,   0,   0,   0,   0,   0,   0,   0,\n",
       "          0,   0,   0,   0,   0,   0,   0,   0,   0,   0,   0,   0,   0,\n",
       "          0,   0],\n",
       "       [  0,   0,   0,   0,   0,   0,   0,   0,   0,   0,   0,   0,   0,\n",
       "          0,   0,   0,   0,   0,   0,   0,   0,   0,   0,   0,   0,   0,\n",
       "          0,   0]], dtype=uint8)"
      ]
     },
     "execution_count": 7,
     "metadata": {},
     "output_type": "execute_result"
    }
   ],
   "source": [
    "X_train[0]"
   ]
  },
  {
   "cell_type": "code",
   "execution_count": 8,
   "id": "9cb80366",
   "metadata": {},
   "outputs": [
    {
     "data": {
      "text/plain": [
       "<matplotlib.image.AxesImage at 0x7fb96ae7a5b0>"
      ]
     },
     "execution_count": 8,
     "metadata": {},
     "output_type": "execute_result"
    },
    {
     "data": {
      "image/png": "[encoded data removed]",
      "text/plain": [
       "<Figure size 345.6x345.6 with 1 Axes>"
      ]
     },
     "metadata": {
      "needs_background": "light"
     },
     "output_type": "display_data"
    }
   ],
   "source": [
    "plt.matshow(X_train[200])"
   ]
  },
  {
   "cell_type": "code",
   "execution_count": 9,
   "id": "7ccd9eb0",
   "metadata": {},
   "outputs": [],
   "source": [
    "y_train[200]\n",
    "X_train=X_train/255\n",
    "X_test=X_test/255"
   ]
  },
  {
   "cell_type": "code",
   "execution_count": 10,
   "id": "933d272d",
   "metadata": {},
   "outputs": [
    {
     "data": {
      "text/plain": [
       "(10000, 784)"
      ]
     },
     "execution_count": 10,
     "metadata": {},
     "output_type": "execute_result"
    }
   ],
   "source": [
    "X_train_flattened=X_train.reshape(len(X_train),28*28)\n",
    "X_test_flattened=X_test.reshape(len(X_test),28*28)\n",
    "\n",
    "X_train_flattened.shape\n",
    "X_test_flattened.shape"
   ]
  },
  {
   "cell_type": "code",
   "execution_count": 12,
   "id": "cb8cde3b",
   "metadata": {},
   "outputs": [
    {
     "name": "stdout",
     "output_type": "stream",
     "text": [
      "Epoch 1/5\n",
      "1875/1875 [==============================] - 1s 721us/step - loss: 0.8030 - accuracy: 0.8315\n",
      "Epoch 2/5\n",
      "1875/1875 [==============================] - 1s 681us/step - loss: 0.3459 - accuracy: 0.9086\n",
      "Epoch 3/5\n",
      "1875/1875 [==============================] - 1s 684us/step - loss: 0.2790 - accuracy: 0.9228\n",
      "Epoch 4/5\n",
      "1875/1875 [==============================] - 1s 681us/step - loss: 0.2473 - accuracy: 0.9306\n",
      "Epoch 5/5\n",
      "1875/1875 [==============================] - 1s 681us/step - loss: 0.2265 - accuracy: 0.9359\n"
     ]
    },
    {
     "data": {
      "text/plain": [
       "<keras.callbacks.History at 0x7fb94c0a6be0>"
      ]
     },
     "execution_count": 12,
     "metadata": {},
     "output_type": "execute_result"
    }
   ],
   "source": [
    "model1=keras.Sequential([\n",
    "        keras.layers.Dense(15,activation=\"sigmoid\"),\n",
    "    keras.layers.Dense(10,activation=\"sigmoid\")\n",
    "        \n",
    "])\n",
    "model1.compile(\n",
    "    optimizer=\"adam\",\n",
    "    loss=\"sparse_categorical_crossentropy\",\n",
    "    metrics=['accuracy']\n",
    ")\n",
    "model1.fit(X_train_flattened,y_train, epochs=5)"
   ]
  },
  {
   "cell_type": "code",
   "execution_count": 13,
   "id": "e05b066a",
   "metadata": {},
   "outputs": [
    {
     "name": "stdout",
     "output_type": "stream",
     "text": [
      "Epoch 1/5\n",
      "1875/1875 [==============================] - 1s 677us/step - loss: 0.8685 - accuracy: 0.8089\n",
      "Epoch 2/5\n",
      "1875/1875 [==============================] - 1s 683us/step - loss: 0.3565 - accuracy: 0.9085\n",
      "Epoch 3/5\n",
      "1875/1875 [==============================] - 1s 684us/step - loss: 0.2845 - accuracy: 0.9214\n",
      "Epoch 4/5\n",
      "1875/1875 [==============================] - 1s 685us/step - loss: 0.2535 - accuracy: 0.9293\n",
      "Epoch 5/5\n",
      "1875/1875 [==============================] - 1s 701us/step - loss: 0.2348 - accuracy: 0.9339\n"
     ]
    },
    {
     "data": {
      "text/plain": [
       "<keras.callbacks.History at 0x7fb93c7d0d60>"
      ]
     },
     "execution_count": 13,
     "metadata": {},
     "output_type": "execute_result"
    }
   ],
   "source": [
    "model2=keras.Sequential([\n",
    "        keras.layers.Dense(15,activation=\"sigmoid\"),\n",
    "    keras.layers.Dense(10,activation=\"softmax\")\n",
    "        \n",
    "])\n",
    "model2.compile(\n",
    "    optimizer=\"adam\",\n",
    "    loss=\"sparse_categorical_crossentropy\",\n",
    "    metrics=['accuracy']\n",
    ")\n",
    "model2.fit(X_train_flattened,y_train, epochs=5)"
   ]
  },
  {
   "cell_type": "code",
   "execution_count": 17,
   "id": "183b1447",
   "metadata": {},
   "outputs": [
    {
     "name": "stdout",
     "output_type": "stream",
     "text": [
      "Epoch 1/5\n",
      "1875/1875 [==============================] - 1s 688us/step - loss: 27.3046 - accuracy: 0.0992\n",
      "Epoch 2/5\n",
      "1875/1875 [==============================] - 1s 702us/step - loss: 27.3046 - accuracy: 0.0932\n",
      "Epoch 3/5\n",
      "1875/1875 [==============================] - 1s 702us/step - loss: 27.3046 - accuracy: 0.0930\n",
      "Epoch 4/5\n",
      "1875/1875 [==============================] - 1s 695us/step - loss: 27.3046 - accuracy: 0.0941\n",
      "Epoch 5/5\n",
      "1875/1875 [==============================] - 1s 782us/step - loss: 27.3046 - accuracy: 0.0989\n"
     ]
    },
    {
     "data": {
      "text/plain": [
       "<keras.callbacks.History at 0x7fb93c423a60>"
      ]
     },
     "execution_count": 17,
     "metadata": {},
     "output_type": "execute_result"
    }
   ],
   "source": [
    "model4=keras.Sequential([\n",
    "        keras.layers.Dense(15,activation=\"sigmoid\"),\n",
    "    keras.layers.Dense(10,activation=\"softmax\")\n",
    "        \n",
    "])\n",
    "model4.compile(\n",
    "    optimizer=\"adam\",\n",
    "    loss=\"mean_squared_error\",\n",
    "    metrics=['accuracy']\n",
    ")\n",
    "model4.fit(X_train_flattened,y_train, epochs=5)"
   ]
  },
  {
   "cell_type": "code",
   "execution_count": 18,
   "id": "dc5aa804",
   "metadata": {},
   "outputs": [
    {
     "name": "stdout",
     "output_type": "stream",
     "text": [
      "Epoch 1/5\n",
      "1875/1875 [==============================] - 2s 704us/step - loss: 3.9260 - accuracy: 0.0555\n",
      "Epoch 2/5\n",
      "1875/1875 [==============================] - 2s 848us/step - loss: 1.2465 - accuracy: 0.0457\n",
      "Epoch 3/5\n",
      "1875/1875 [==============================] - 1s 773us/step - loss: 1.0556 - accuracy: 0.0562\n",
      "Epoch 4/5\n",
      "1875/1875 [==============================] - 1s 714us/step - loss: 0.9594 - accuracy: 0.0594\n",
      "Epoch 5/5\n",
      "1875/1875 [==============================] - 1s 716us/step - loss: 0.8974 - accuracy: 0.0686\n"
     ]
    },
    {
     "data": {
      "text/plain": [
       "<keras.callbacks.History at 0x7fb93c2f4b80>"
      ]
     },
     "execution_count": 18,
     "metadata": {},
     "output_type": "execute_result"
    }
   ],
   "source": [
    "model3=keras.Sequential([\n",
    "        keras.layers.Dense(15,activation=\"sigmoid\"),\n",
    "    keras.layers.Dense(12,activation=\"relu\"),\n",
    "    keras.layers.Dense(10,activation=\"linear\")\n",
    "        \n",
    "])\n",
    "model3.compile(\n",
    "    optimizer=\"adam\",\n",
    "    loss=\"mean_squared_error\",\n",
    "    metrics=['accuracy']\n",
    ")\n",
    "model3.fit(X_train_flattened,y_train, epochs=5)"
   ]
  },
  {
   "cell_type": "code",
   "execution_count": 16,
   "id": "fe77e97b",
   "metadata": {},
   "outputs": [
    {
     "name": "stdout",
     "output_type": "stream",
     "text": [
      "Epoch 1/40\n",
      "1875/1875 [==============================] - 2s 774us/step - loss: 0.4057 - accuracy: 0.8809\n",
      "Epoch 2/40\n",
      "1875/1875 [==============================] - 1s 779us/step - loss: 0.2002 - accuracy: 0.9405\n",
      "Epoch 3/40\n",
      "1875/1875 [==============================] - 2s 903us/step - loss: 0.1638 - accuracy: 0.9520\n",
      "Epoch 4/40\n",
      "1875/1875 [==============================] - 2s 826us/step - loss: 0.1437 - accuracy: 0.9570\n",
      "Epoch 5/40\n",
      "1875/1875 [==============================] - 2s 881us/step - loss: 0.1287 - accuracy: 0.9608\n",
      "Epoch 6/40\n",
      "1875/1875 [==============================] - 2s 968us/step - loss: 0.1193 - accuracy: 0.9636\n",
      "Epoch 7/40\n",
      "1875/1875 [==============================] - 2s 914us/step - loss: 0.1081 - accuracy: 0.9668\n",
      "Epoch 8/40\n",
      "1875/1875 [==============================] - 2s 801us/step - loss: 0.1027 - accuracy: 0.9688\n",
      "Epoch 9/40\n",
      "1875/1875 [==============================] - 2s 802us/step - loss: 0.0954 - accuracy: 0.9707\n",
      "Epoch 10/40\n",
      "1875/1875 [==============================] - 2s 808us/step - loss: 0.0902 - accuracy: 0.9717\n",
      "Epoch 11/40\n",
      "1875/1875 [==============================] - 1s 795us/step - loss: 0.0850 - accuracy: 0.9737\n",
      "Epoch 12/40\n",
      "1875/1875 [==============================] - 1s 791us/step - loss: 0.0808 - accuracy: 0.9755\n",
      "Epoch 13/40\n",
      "1875/1875 [==============================] - 1s 797us/step - loss: 0.0778 - accuracy: 0.9754\n",
      "Epoch 14/40\n",
      "1875/1875 [==============================] - 2s 992us/step - loss: 0.0737 - accuracy: 0.9772\n",
      "Epoch 15/40\n",
      "1875/1875 [==============================] - 2s 815us/step - loss: 0.0707 - accuracy: 0.9778\n",
      "Epoch 16/40\n",
      "1875/1875 [==============================] - 2s 874us/step - loss: 0.0693 - accuracy: 0.9784\n",
      "Epoch 17/40\n",
      "1875/1875 [==============================] - 1s 792us/step - loss: 0.0648 - accuracy: 0.9789\n",
      "Epoch 18/40\n",
      "1875/1875 [==============================] - 2s 950us/step - loss: 0.0631 - accuracy: 0.9798\n",
      "Epoch 19/40\n",
      "1875/1875 [==============================] - 2s 929us/step - loss: 0.0596 - accuracy: 0.9806\n",
      "Epoch 20/40\n",
      "1875/1875 [==============================] - 2s 825us/step - loss: 0.0583 - accuracy: 0.9818\n",
      "Epoch 21/40\n",
      "1875/1875 [==============================] - 2s 846us/step - loss: 0.0546 - accuracy: 0.9831\n",
      "Epoch 22/40\n",
      "1875/1875 [==============================] - 2s 868us/step - loss: 0.0532 - accuracy: 0.9830\n",
      "Epoch 23/40\n",
      "1875/1875 [==============================] - 2s 842us/step - loss: 0.0529 - accuracy: 0.9828\n",
      "Epoch 24/40\n",
      "1875/1875 [==============================] - 1s 793us/step - loss: 0.0496 - accuracy: 0.9843\n",
      "Epoch 25/40\n",
      "1875/1875 [==============================] - 2s 800us/step - loss: 0.0487 - accuracy: 0.9843\n",
      "Epoch 26/40\n",
      "1875/1875 [==============================] - 1s 793us/step - loss: 0.0460 - accuracy: 0.9856\n",
      "Epoch 27/40\n",
      "1875/1875 [==============================] - 1s 795us/step - loss: 0.0466 - accuracy: 0.9852\n",
      "Epoch 28/40\n",
      "1875/1875 [==============================] - 1s 797us/step - loss: 0.0448 - accuracy: 0.9859\n",
      "Epoch 29/40\n",
      "1875/1875 [==============================] - 2s 804us/step - loss: 0.0419 - accuracy: 0.9864\n",
      "Epoch 30/40\n",
      "1875/1875 [==============================] - 1s 799us/step - loss: 0.0421 - accuracy: 0.9864\n",
      "Epoch 31/40\n",
      "1875/1875 [==============================] - 2s 804us/step - loss: 0.0395 - accuracy: 0.9871\n",
      "Epoch 32/40\n",
      "1875/1875 [==============================] - 2s 805us/step - loss: 0.0386 - accuracy: 0.9874\n",
      "Epoch 33/40\n",
      "1875/1875 [==============================] - 2s 800us/step - loss: 0.0388 - accuracy: 0.9873\n",
      "Epoch 34/40\n",
      "1875/1875 [==============================] - 1s 796us/step - loss: 0.0355 - accuracy: 0.9883\n",
      "Epoch 35/40\n",
      "1875/1875 [==============================] - 1s 795us/step - loss: 0.0368 - accuracy: 0.9877\n",
      "Epoch 36/40\n",
      "1875/1875 [==============================] - 2s 804us/step - loss: 0.0344 - accuracy: 0.9889\n",
      "Epoch 37/40\n",
      "1875/1875 [==============================] - 2s 803us/step - loss: 0.0327 - accuracy: 0.9894\n",
      "Epoch 38/40\n",
      "1875/1875 [==============================] - 2s 801us/step - loss: 0.0317 - accuracy: 0.9891\n",
      "Epoch 39/40\n",
      "1875/1875 [==============================] - 1s 797us/step - loss: 0.0327 - accuracy: 0.9887\n",
      "Epoch 40/40\n",
      "1875/1875 [==============================] - 1s 798us/step - loss: 0.0288 - accuracy: 0.9906\n"
     ]
    },
    {
     "data": {
      "text/plain": [
       "<keras.callbacks.History at 0x7fb93c4de370>"
      ]
     },
     "execution_count": 16,
     "metadata": {},
     "output_type": "execute_result"
    }
   ],
   "source": [
    "model5=keras.Sequential([\n",
    "        keras.layers.Dense(25,activation=\"relu\"),\n",
    "        keras.layers.Dense(15,activation=\"relu\"),\n",
    "#             keras.layers.Dense(10,activation=\"relu\"),\n",
    "\n",
    "\n",
    "    keras.layers.Dense(10,activation=\"Softmax\")\n",
    "])\n",
    "model5.compile(\n",
    "    optimizer=\"adam\",\n",
    "    loss=\"sparse_categorical_crossentropy\",\n",
    "    metrics=['accuracy']\n",
    ")\n",
    "model5.fit(X_train_flattened,y_train, epochs=40)"
   ]
  },
  {
   "cell_type": "code",
   "execution_count": 19,
   "id": "9b817b2f",
   "metadata": {},
   "outputs": [
    {
     "data": {
      "text/plain": [
       "<matplotlib.image.AxesImage at 0x7fb93c1f56d0>"
      ]
     },
     "execution_count": 19,
     "metadata": {},
     "output_type": "execute_result"
    },
    {
     "data": {
      "image/png": "[encoded data removed]",
      "text/plain": [
       "<Figure size 288x288 with 1 Axes>"
      ]
     },
     "metadata": {
      "needs_background": "light"
     },
     "output_type": "display_data"
    }
   ],
   "source": [
    "plt.matshow(X_test[2306])"
   ]
  },
  {
   "cell_type": "code",
   "execution_count": 27,
   "id": "fbd5edfc",
   "metadata": {},
   "outputs": [
    {
     "data": {
      "text/plain": [
       "4"
      ]
     },
     "execution_count": 27,
     "metadata": {},
     "output_type": "execute_result"
    }
   ],
   "source": [
    "y_test[2306]"
   ]
  },
  {
   "cell_type": "code",
   "execution_count": 21,
   "id": "656f7f90",
   "metadata": {},
   "outputs": [
    {
     "name": "stdout",
     "output_type": "stream",
     "text": [
      "313/313 [==============================] - 0s 424us/step\n"
     ]
    },
    {
     "data": {
      "text/plain": [
       "4"
      ]
     },
     "execution_count": 21,
     "metadata": {},
     "output_type": "execute_result"
    }
   ],
   "source": [
    "a=model1.predict(X_test_flattened)\n",
    "\n",
    "np.argmax(a[2306])        "
   ]
  },
  {
   "cell_type": "code",
   "execution_count": 22,
   "id": "650fccbd",
   "metadata": {},
   "outputs": [
    {
     "name": "stdout",
     "output_type": "stream",
     "text": [
      "313/313 [==============================] - 0s 455us/step\n"
     ]
    },
    {
     "data": {
      "text/plain": [
       "3"
      ]
     },
     "execution_count": 22,
     "metadata": {},
     "output_type": "execute_result"
    }
   ],
   "source": [
    "a=model2.predict(X_test_flattened)\n",
    "\n",
    "np.argmax(a[2306])        "
   ]
  },
  {
   "cell_type": "code",
   "execution_count": 23,
   "id": "ce030938",
   "metadata": {},
   "outputs": [
    {
     "name": "stdout",
     "output_type": "stream",
     "text": [
      "313/313 [==============================] - 0s 464us/step\n"
     ]
    },
    {
     "data": {
      "text/plain": [
       "4"
      ]
     },
     "execution_count": 23,
     "metadata": {},
     "output_type": "execute_result"
    }
   ],
   "source": [
    "a=model3.predict(X_test_flattened)\n",
    "\n",
    "np.argmax(a[2306])        "
   ]
  },
  {
   "cell_type": "code",
   "execution_count": 24,
   "id": "1788dce1",
   "metadata": {},
   "outputs": [
    {
     "name": "stdout",
     "output_type": "stream",
     "text": [
      "313/313 [==============================] - 0s 426us/step\n"
     ]
    },
    {
     "data": {
      "text/plain": [
       "6"
      ]
     },
     "execution_count": 24,
     "metadata": {},
     "output_type": "execute_result"
    }
   ],
   "source": [
    "a=model4.predict(X_test_flattened)\n",
    "\n",
    "np.argmax(a[2306])        "
   ]
  },
  {
   "cell_type": "code",
   "execution_count": 25,
   "id": "48be56a2",
   "metadata": {},
   "outputs": [
    {
     "name": "stdout",
     "output_type": "stream",
     "text": [
      "313/313 [==============================] - 0s 469us/step\n"
     ]
    },
    {
     "data": {
      "text/plain": [
       "4"
      ]
     },
     "execution_count": 25,
     "metadata": {},
     "output_type": "execute_result"
    }
   ],
   "source": [
    "a=model5.predict(X_test_flattened)\n",
    "\n",
    "np.argmax(a[2306])        "
   ]
  },
  {
   "cell_type": "code",
   "execution_count": null,
   "id": "2e859210",
   "metadata": {},
   "outputs": [],
   "source": []
  }
 ],
 "metadata": {
  "kernelspec": {
   "display_name": "Python 3 (ipykernel)",
   "language": "python",
   "name": "python3"
  },
  "language_info": {
   "codemirror_mode": {
    "name": "ipython",
    "version": 3
   },
   "file_extension": ".py",
   "mimetype": "text/x-python",
   "name": "python",
   "nbconvert_exporter": "python",
   "pygments_lexer": "ipython3",
   "version": "3.8.10"
  }
 },
 "nbformat": 4,
 "nbformat_minor": 5
}
